{
 "cells": [
  {
   "cell_type": "markdown",
   "id": "bb56546e",
   "metadata": {},
   "source": [
    "# Import niezbędnych bibliotek"
   ]
  },
  {
   "cell_type": "code",
   "execution_count": 74,
   "id": "8fdb3a17",
   "metadata": {},
   "outputs": [],
   "source": [
    "import numpy as np\n",
    "import numpy_financial as npf\n",
    "import matplotlib as plt\n",
    "import matplotlib.pyplot as plt"
   ]
  },
  {
   "cell_type": "code",
   "execution_count": 61,
   "id": "a2b19c86",
   "metadata": {},
   "outputs": [],
   "source": [
    "flat_current_value = 120000\n",
    "period_year = 5\n",
    "period_month = period_year*12\n",
    "flat_yearly_inflation = 0.05\n",
    "flat_monthly_inflation = flat_yearly_inflation/12\n",
    "deposit_yearly_interest = 0.12\n",
    "deposit_monthly_interest = deposit_yearly_interest/12\n"
   ]
  },
  {
   "cell_type": "code",
   "execution_count": 62,
   "id": "92a8c9eb",
   "metadata": {},
   "outputs": [
    {
     "data": {
      "text/plain": [
       "array([1, 2, 3, 4, 5])"
      ]
     },
     "execution_count": 62,
     "metadata": {},
     "output_type": "execute_result"
    }
   ],
   "source": [
    "periods_year = np.arange(1,period_year+1, dtype=int)\n",
    "periods_year"
   ]
  },
  {
   "cell_type": "code",
   "execution_count": 63,
   "id": "8b5d1388",
   "metadata": {},
   "outputs": [
    {
     "data": {
      "text/plain": [
       "array([ 1,  2,  3,  4,  5,  6,  7,  8,  9, 10])"
      ]
     },
     "execution_count": 63,
     "metadata": {},
     "output_type": "execute_result"
    }
   ],
   "source": [
    "periods_month = np.arange(1,period_month+1,dtype=int)\n",
    "periods_month[:10]"
   ]
  },
  {
   "cell_type": "markdown",
   "id": "018de361",
   "metadata": {},
   "source": [
    "# Obliczam cenę mieszkania za 5 lat"
   ]
  },
  {
   "cell_type": "code",
   "execution_count": 64,
   "id": "d45aca59",
   "metadata": {},
   "outputs": [
    {
     "data": {
      "text/plain": [
       "array([148346., 148965., 149585., 150208., 150834., 151463., 152094.,\n",
       "       152728., 153364., 154003.])"
      ]
     },
     "execution_count": 64,
     "metadata": {},
     "output_type": "execute_result"
    }
   ],
   "source": [
    "flat_price_in5year = np.around(npf.fv(flat_monthly_inflation, periods_month, 0, -flat_current_value, when = 'end'),0)\n",
    "flat_price_in5year[-10:]"
   ]
  },
  {
   "cell_type": "code",
   "execution_count": 65,
   "id": "df11ec3b",
   "metadata": {},
   "outputs": [
    {
     "data": {
      "text/plain": [
       "154003.0"
      ]
     },
     "execution_count": 65,
     "metadata": {},
     "output_type": "execute_result"
    }
   ],
   "source": [
    "flat_price_in5year[-1]"
   ]
  },
  {
   "cell_type": "markdown",
   "id": "5211defd",
   "metadata": {},
   "source": [
    "# Obliczam, ile odkładać do banku, żeby zaoszczędzić na mieszkanie"
   ]
  },
  {
   "cell_type": "code",
   "execution_count": 66,
   "id": "ea908f67",
   "metadata": {},
   "outputs": [
    {
     "data": {
      "text/plain": [
       "array([ 0, 10, 20, 30, 40, 50, 60, 70, 80, 90])"
      ]
     },
     "execution_count": 66,
     "metadata": {},
     "output_type": "execute_result"
    }
   ],
   "source": [
    "miesieczne_oszczednosci = np.arange(0, 3000, 10, dtype=int)\n",
    "miesieczne_oszczednosci[:10]"
   ]
  },
  {
   "cell_type": "code",
   "execution_count": 67,
   "id": "6ae375ab",
   "metadata": {},
   "outputs": [
    {
     "data": {
      "text/plain": [
       "array([  -0.        ,  816.69669856, 1633.39339713, 2450.09009569,\n",
       "       3266.78679426, 4083.48349282, 4900.18019138, 5716.87688995,\n",
       "       6533.57358851, 7350.27028708])"
      ]
     },
     "execution_count": 67,
     "metadata": {},
     "output_type": "execute_result"
    }
   ],
   "source": [
    "wartosc_oszczednosci_za5lat = npf.fv(deposit_monthly_interest, period_month, -miesieczne_oszczednosci, 0, when = 'end')\n",
    "wartosc_oszczednosci_za5lat[:10]"
   ]
  },
  {
   "cell_type": "code",
   "execution_count": 68,
   "id": "9f40586d",
   "metadata": {},
   "outputs": [
    {
     "data": {
      "text/plain": [
       "array([-154003.        , -153186.30330144, -152369.60660287,\n",
       "       -151552.90990431, -150736.21320574, -149919.51650718,\n",
       "       -149102.81980862, -148286.12311005, -147469.42641149,\n",
       "       -146652.72971292])"
      ]
     },
     "execution_count": 68,
     "metadata": {},
     "output_type": "execute_result"
    }
   ],
   "source": [
    "roznica = wartosc_oszczednosci_za5lat - flat_price_in5year[-1]\n",
    "roznica[:10]\n"
   ]
  },
  {
   "cell_type": "code",
   "execution_count": 69,
   "id": "7dabb3e6",
   "metadata": {},
   "outputs": [
    {
     "data": {
      "text/plain": [
       "189"
      ]
     },
     "execution_count": 69,
     "metadata": {},
     "output_type": "execute_result"
    }
   ],
   "source": [
    "indeks_osczednosci=np.min((np.where(roznica>=0)))\n",
    "indeks_osczednosci"
   ]
  },
  {
   "cell_type": "code",
   "execution_count": 70,
   "id": "fba099a5",
   "metadata": {},
   "outputs": [
    {
     "data": {
      "text/plain": [
       "1890"
      ]
     },
     "execution_count": 70,
     "metadata": {},
     "output_type": "execute_result"
    }
   ],
   "source": [
    "niezbedne_miesieczne_oszczednosci=miesieczne_oszczednosci[189]\n",
    "niezbedne_miesieczne_oszczednosci"
   ]
  },
  {
   "cell_type": "code",
   "execution_count": 71,
   "id": "a17207c0",
   "metadata": {},
   "outputs": [],
   "source": [
    "# Z dokładnością do 10 PLN, trzeba odkładać 1890 PLN miesięcznie."
   ]
  },
  {
   "cell_type": "markdown",
   "id": "2363d043",
   "metadata": {},
   "source": [
    "# Rysuję wykres"
   ]
  },
  {
   "cell_type": "code",
   "execution_count": 72,
   "id": "4a699a21",
   "metadata": {},
   "outputs": [
    {
     "data": {
      "text/plain": [
       "array([ 1890.        ,  3798.9       ,  5726.889     ,  7674.15789   ,\n",
       "        9640.8994689 , 11627.30846359, 13633.58154822, 15659.91736371,\n",
       "       17706.51653734, 19773.58170272])"
      ]
     },
     "execution_count": 72,
     "metadata": {},
     "output_type": "execute_result"
    }
   ],
   "source": [
    "wartosc_oszczednosci_w_czasie=npf.fv(deposit_monthly_interest, periods_month, -miesieczne_oszczednosci[189], 0, when = 'end')\n",
    "wartosc_oszczednosci_w_czasie[:10]"
   ]
  },
  {
   "cell_type": "code",
   "execution_count": 75,
   "id": "6fcb2195",
   "metadata": {},
   "outputs": [
    {
     "data": {
      "text/plain": [
       "Text(0, 0.5, 'Wartość mieszkania oraz oszczędności')"
      ]
     },
     "execution_count": 75,
     "metadata": {},
     "output_type": "execute_result"
    },
    {
     "data": {
      "image/png": "[encoded data removed]",
      "text/plain": [
       "<Figure size 640x480 with 1 Axes>"
      ]
     },
     "metadata": {},
     "output_type": "display_data"
    }
   ],
   "source": [
    "plt.plot(flat_price_in5year, label='wartość mieszkania w czasie')\n",
    "plt.plot(wartosc_oszczednosci_w_czasie ,label='wartość oszczędności w czasie')\n",
    "plt.legend()\n",
    "plt.xlabel('Liczba okresów')\n",
    "plt.ylabel('Wartość mieszkania oraz oszczędności')\n"
   ]
  },
  {
   "cell_type": "code",
   "execution_count": null,
   "id": "89a9f248",
   "metadata": {},
   "outputs": [],
   "source": []
  }
 ],
 "metadata": {
  "kernelspec": {
   "display_name": "Python 3 (ipykernel)",
   "language": "python",
   "name": "python3"
  },
  "language_info": {
   "codemirror_mode": {
    "name": "ipython",
    "version": 3
   },
   "file_extension": ".py",
   "mimetype": "text/x-python",
   "name": "python",
   "nbconvert_exporter": "python",
   "pygments_lexer": "ipython3",
   "version": "3.10.6"
  }
 },
 "nbformat": 4,
 "nbformat_minor": 5
}
